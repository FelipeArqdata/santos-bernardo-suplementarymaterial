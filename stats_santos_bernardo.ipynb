{
 "cells": [
  {
   "cell_type": "markdown",
   "metadata": {},
   "source": [
    "### **Statistical analyses for the book chapter: “Evolutionary implications of violence in complex societies in the central Andes region, a bioarchaeological analysis”**\n",
    "\n",
    "**Authors:** Felipe Pinto dos Santos and Danilo Vicensotto Bernardo\n",
    "**Year:** 2025 \n",
    "**Software:** Python"
   ]
  },
  {
   "cell_type": "markdown",
   "metadata": {},
   "source": [
    "## 1. Data Loading and Preparation\n",
    "\n",
    "### 1.1 Importing Libraries and Initial Loading"
   ]
  },
  {
   "cell_type": "markdown",
   "metadata": {},
   "source": [
    "The first step is importing the necessary libraries and loading the dataset. The following code demonstrates the import of essential libraries such as `numpy` for numerical operations, `pandas` for data manipulation, `statsmodels` for statistical modeling, and `matplotlib.pyplot` for visualization."
   ]
  },
  {
   "cell_type": "code",
   "execution_count": 1,
   "metadata": {},
   "outputs": [
    {
     "data": {
      "text/html": [
       "<div>\n",
       "<style scoped>\n",
       "    .dataframe tbody tr th:only-of-type {\n",
       "        vertical-align: middle;\n",
       "    }\n",
       "\n",
       "    .dataframe tbody tr th {\n",
       "        vertical-align: top;\n",
       "    }\n",
       "\n",
       "    .dataframe thead th {\n",
       "        text-align: right;\n",
       "    }\n",
       "</style>\n",
       "<table border=\"1\" class=\"dataframe\">\n",
       "  <thead>\n",
       "    <tr style=\"text-align: right;\">\n",
       "      <th></th>\n",
       "      <th>autor_year</th>\n",
       "      <th>country</th>\n",
       "      <th>region</th>\n",
       "      <th>grupy_region</th>\n",
       "      <th>site</th>\n",
       "      <th>lat</th>\n",
       "      <th>long</th>\n",
       "      <th>elevation_m</th>\n",
       "      <th>culture</th>\n",
       "      <th>period</th>\n",
       "      <th>...</th>\n",
       "      <th>n_antimortem_posterior</th>\n",
       "      <th>n_perimortem_posterior</th>\n",
       "      <th>n_tr_lateral</th>\n",
       "      <th>n_antimortem_lateral</th>\n",
       "      <th>n_tr_perimortem_lateral</th>\n",
       "      <th>lateral_e</th>\n",
       "      <th>lateral_d</th>\n",
       "      <th>n_tr_superior</th>\n",
       "      <th>n_antimortem_superior</th>\n",
       "      <th>n_perimortem_superior</th>\n",
       "    </tr>\n",
       "  </thead>\n",
       "  <tbody>\n",
       "    <tr>\n",
       "      <th>0</th>\n",
       "      <td>Tung 2007 e Tung 2012</td>\n",
       "      <td>Peru</td>\n",
       "      <td>Ayacucho</td>\n",
       "      <td>Terras Altas</td>\n",
       "      <td>Conchopata</td>\n",
       "      <td>-13,1572</td>\n",
       "      <td>-74,1939</td>\n",
       "      <td>2839.0</td>\n",
       "      <td>Pré_Wari_Huarpa</td>\n",
       "      <td>EIP</td>\n",
       "      <td>...</td>\n",
       "      <td>NaN</td>\n",
       "      <td>NaN</td>\n",
       "      <td>1.0</td>\n",
       "      <td>NaN</td>\n",
       "      <td>NaN</td>\n",
       "      <td>NaN</td>\n",
       "      <td>NaN</td>\n",
       "      <td>NaN</td>\n",
       "      <td>NaN</td>\n",
       "      <td>NaN</td>\n",
       "    </tr>\n",
       "    <tr>\n",
       "      <th>1</th>\n",
       "      <td>Tung 2007 e Tung 2012</td>\n",
       "      <td>Peru</td>\n",
       "      <td>Ayacucho</td>\n",
       "      <td>Terras Altas</td>\n",
       "      <td>Conchopata</td>\n",
       "      <td>-13,1572</td>\n",
       "      <td>-74,1939</td>\n",
       "      <td>2839.0</td>\n",
       "      <td>Pré_Wari_Huarpa</td>\n",
       "      <td>EIP</td>\n",
       "      <td>...</td>\n",
       "      <td>NaN</td>\n",
       "      <td>NaN</td>\n",
       "      <td>NaN</td>\n",
       "      <td>NaN</td>\n",
       "      <td>NaN</td>\n",
       "      <td>NaN</td>\n",
       "      <td>NaN</td>\n",
       "      <td>NaN</td>\n",
       "      <td>NaN</td>\n",
       "      <td>NaN</td>\n",
       "    </tr>\n",
       "    <tr>\n",
       "      <th>2</th>\n",
       "      <td>Tung 2007 e Tung 2012</td>\n",
       "      <td>Peru</td>\n",
       "      <td>Ayacucho</td>\n",
       "      <td>Terras Altas</td>\n",
       "      <td>Conchopata</td>\n",
       "      <td>-13,1572</td>\n",
       "      <td>-74,1939</td>\n",
       "      <td>2839.0</td>\n",
       "      <td>Pré_Wari_Huarpa</td>\n",
       "      <td>EIP</td>\n",
       "      <td>...</td>\n",
       "      <td>NaN</td>\n",
       "      <td>NaN</td>\n",
       "      <td>NaN</td>\n",
       "      <td>NaN</td>\n",
       "      <td>NaN</td>\n",
       "      <td>NaN</td>\n",
       "      <td>NaN</td>\n",
       "      <td>NaN</td>\n",
       "      <td>NaN</td>\n",
       "      <td>NaN</td>\n",
       "    </tr>\n",
       "    <tr>\n",
       "      <th>3</th>\n",
       "      <td>Tung 2014</td>\n",
       "      <td>Peru</td>\n",
       "      <td>Ayacucho</td>\n",
       "      <td>Terras Altas</td>\n",
       "      <td>Huari_Cheqo_wasi</td>\n",
       "      <td>-13,0647</td>\n",
       "      <td>-74,1747</td>\n",
       "      <td>2839.0</td>\n",
       "      <td>Wari</td>\n",
       "      <td>MH</td>\n",
       "      <td>...</td>\n",
       "      <td>NaN</td>\n",
       "      <td>NaN</td>\n",
       "      <td>NaN</td>\n",
       "      <td>NaN</td>\n",
       "      <td>NaN</td>\n",
       "      <td>NaN</td>\n",
       "      <td>NaN</td>\n",
       "      <td>NaN</td>\n",
       "      <td>NaN</td>\n",
       "      <td>NaN</td>\n",
       "    </tr>\n",
       "    <tr>\n",
       "      <th>4</th>\n",
       "      <td>Tung 2014</td>\n",
       "      <td>Peru</td>\n",
       "      <td>Ayacucho</td>\n",
       "      <td>Terras Altas</td>\n",
       "      <td>Huari_Cheqo_wasi</td>\n",
       "      <td>-13,0647</td>\n",
       "      <td>-74,1747</td>\n",
       "      <td>2839.0</td>\n",
       "      <td>Wari</td>\n",
       "      <td>MH</td>\n",
       "      <td>...</td>\n",
       "      <td>NaN</td>\n",
       "      <td>NaN</td>\n",
       "      <td>NaN</td>\n",
       "      <td>NaN</td>\n",
       "      <td>NaN</td>\n",
       "      <td>NaN</td>\n",
       "      <td>NaN</td>\n",
       "      <td>NaN</td>\n",
       "      <td>NaN</td>\n",
       "      <td>NaN</td>\n",
       "    </tr>\n",
       "  </tbody>\n",
       "</table>\n",
       "<p>5 rows × 36 columns</p>\n",
       "</div>"
      ],
      "text/plain": [
       "              autor_year country    region  grupy_region              site  \\\n",
       "0  Tung 2007 e Tung 2012    Peru  Ayacucho  Terras Altas        Conchopata   \n",
       "1  Tung 2007 e Tung 2012    Peru  Ayacucho  Terras Altas        Conchopata   \n",
       "2  Tung 2007 e Tung 2012    Peru  Ayacucho  Terras Altas        Conchopata   \n",
       "3              Tung 2014    Peru  Ayacucho  Terras Altas  Huari_Cheqo_wasi   \n",
       "4              Tung 2014    Peru  Ayacucho  Terras Altas  Huari_Cheqo_wasi   \n",
       "\n",
       "        lat      long  elevation_m          culture period  ...  \\\n",
       "0  -13,1572  -74,1939       2839.0  Pré_Wari_Huarpa    EIP  ...   \n",
       "1  -13,1572  -74,1939       2839.0  Pré_Wari_Huarpa    EIP  ...   \n",
       "2  -13,1572  -74,1939       2839.0  Pré_Wari_Huarpa    EIP  ...   \n",
       "3  -13,0647  -74,1747       2839.0             Wari     MH  ...   \n",
       "4  -13,0647  -74,1747       2839.0             Wari     MH  ...   \n",
       "\n",
       "   n_antimortem_posterior  n_perimortem_posterior n_tr_lateral  \\\n",
       "0                     NaN                     NaN          1.0   \n",
       "1                     NaN                     NaN          NaN   \n",
       "2                     NaN                     NaN          NaN   \n",
       "3                     NaN                     NaN          NaN   \n",
       "4                     NaN                     NaN          NaN   \n",
       "\n",
       "  n_antimortem_lateral  n_tr_perimortem_lateral  lateral_e  lateral_d  \\\n",
       "0                  NaN                      NaN        NaN        NaN   \n",
       "1                  NaN                      NaN        NaN        NaN   \n",
       "2                  NaN                      NaN        NaN        NaN   \n",
       "3                  NaN                      NaN        NaN        NaN   \n",
       "4                  NaN                      NaN        NaN        NaN   \n",
       "\n",
       "  n_tr_superior  n_antimortem_superior  n_perimortem_superior  \n",
       "0           NaN                    NaN                    NaN  \n",
       "1           NaN                    NaN                    NaN  \n",
       "2           NaN                    NaN                    NaN  \n",
       "3           NaN                    NaN                    NaN  \n",
       "4           NaN                    NaN                    NaN  \n",
       "\n",
       "[5 rows x 36 columns]"
      ]
     },
     "execution_count": 1,
     "metadata": {},
     "output_type": "execute_result"
    }
   ],
   "source": [
    "import numpy as np\n",
    "import pandas as pd\n",
    "import statsmodels.api as sm \n",
    "import statsmodels.formula.api as smf \n",
    "import matplotlib.pyplot as plt \n",
    "\n",
    "# === 1) load data ===\n",
    "file_path = \"tr_data_andescentral.xlsx\"  \n",
    "df = pd.read_excel(file_path)\n",
    "df.head() # show the structure of the data (coluns and rows)"
   ]
  },
  {
   "cell_type": "markdown",
   "metadata": {},
   "source": [
    "### 1.2 Variable Selection\n",
    "\n",
    "In the followling cell, the variables of interesting was select, that is  `n_id` and `n_id_affect`. This two columns are extracted into separate variables. This step is crucial for focusing on relevant data and simplifying future operations."
   ]
  },
  {
   "cell_type": "code",
   "execution_count": 2,
   "metadata": {},
   "outputs": [],
   "source": [
    "# select variables for analyses\n",
    "\n",
    "n_id = df['n_id']\n",
    "n_id_affect = df['n_id_affect']\n",
    "\n"
   ]
  },
  {
   "cell_type": "markdown",
   "metadata": {},
   "source": [
    "### 1.3 Descriptive Statistics\n",
    "\n",
    "To understand the distribution and basic characteristics of the variables, descriptive statistics are calculated. The `describe()` method of pandas provides a statistical summary, including count, mean, standard deviation, minimum and maximum values, and quartiles."
   ]
  },
  {
   "cell_type": "code",
   "execution_count": 3,
   "metadata": {},
   "outputs": [
    {
     "name": "stdout",
     "output_type": "stream",
     "text": [
      "            n_id  n_id_affect\n",
      "count  95.000000    95.000000\n",
      "mean   20.431579     6.000000\n",
      "std    18.876222     9.187179\n",
      "min     1.000000     0.000000\n",
      "25%     6.000000     1.000000\n",
      "50%    14.000000     3.000000\n",
      "75%    29.000000     6.000000\n",
      "max    77.000000    52.000000\n"
     ]
    }
   ],
   "source": [
    "subset = df[['n_id','n_id_affect']] # select coluns \n",
    "print(subset.describe())"
   ]
  },
  {
   "cell_type": "markdown",
   "metadata": {},
   "source": [
    "These values provide an overview of the centrality, dispersion, and shape of the distributions of the `n_id` and `n_id_affect` variables.\n"
   ]
  },
  {
   "cell_type": "markdown",
   "metadata": {},
   "source": [
    "### 1.4 Visualization: Histograms\n",
    "\n",
    "Histograms are powerful visual tools for understanding the distribution of a single variable. The following code generates histograms for `n_id` and `n_id_affect`, allowing observation of the the total number of individual observed and the count events of truma. "
   ]
  },
  {
   "cell_type": "code",
   "execution_count": 4,
   "metadata": {},
   "outputs": [
    {
     "data": {
      "image/png": "[encoded data removed]",
      "text/plain": [
       "<Figure size 600x800 with 2 Axes>"
      ]
     },
     "metadata": {},
     "output_type": "display_data"
    }
   ],
   "source": [
    "\n",
    "# Ploting histogram of variables: \n",
    "\n",
    "# Figure and subplots configuration\n",
    "fig, axs = plt.subplots(2, 1, figsize=(6, 8))\n",
    "\n",
    "# Plotting the first histogram\n",
    "axs[0].hist(n_id, bins='auto')\n",
    "axs[0].set_title('Histogram of Observed')\n",
    "\n",
    "# Plotting the second histogram\n",
    "axs[1].hist(n_id_affect, bins='auto')\n",
    "axs[1].set_title('Histogram of Absolute Number of Affected by Trauma')\n",
    "\n",
    "# Adjusting spacing between subplots\n",
    "plt.tight_layout()\n",
    "\n",
    "# Displaying the figure\n",
    "plt.show()"
   ]
  },
  {
   "cell_type": "markdown",
   "metadata": {},
   "source": [
    "Observing the plots, it is notable that the values of the two variables it is concentrate in the lowwer values, with higher values dispersed. Visualy this type of distribuition is very similar to a poisson and binomial negative distribuition. "
   ]
  },
  {
   "cell_type": "markdown",
   "metadata": {},
   "source": [
    "### 1.5 Relative Frequency per Period\n",
    "\n",
    "To analyze the relationship between the trauma occurence and the periods, the relative frequency per period was calculated. This procedure involves grouping the data by `period` and calculating the proportion of `n_id_affect` relative to `n_id`:"
   ]
  },
  {
   "cell_type": "code",
   "execution_count": 5,
   "metadata": {},
   "outputs": [
    {
     "name": "stdout",
     "output_type": "stream",
     "text": [
      "period\n",
      "EIP    0.165829\n",
      "LIP    0.375685\n",
      "MH     0.234017\n",
      "dtype: float64\n"
     ]
    }
   ],
   "source": [
    "# Calculating the relative frequency per period\n",
    "fr = df[['period', 'n_id', 'n_id_affect']]\n",
    "fr = fr.fillna(0)\n",
    "\n",
    "# Grouping and calculating sums\n",
    "sum = fr.groupby('period').sum()\n",
    "fr_result = sum['n_id_affect'] / sum['n_id']\n",
    "\n",
    "# Displaying the result\n",
    "print(fr_result)"
   ]
  },
  {
   "cell_type": "markdown",
   "metadata": {},
   "source": [
    "These values indicate the relative frequency of individuals affected by trauma in LIP period was more higher than previous one as expected by the assunptions of this study. In the following code cell, a bar chart was generate for visualising the diference in relative frequence by period."
   ]
  },
  {
   "cell_type": "code",
   "execution_count": 6,
   "metadata": {},
   "outputs": [
    {
     "data": {
      "image/png": "[encoded data removed]",
      "text/plain": [
       "<Figure size 640x480 with 1 Axes>"
      ]
     },
     "metadata": {},
     "output_type": "display_data"
    }
   ],
   "source": [
    "# Ploting relative frequence per period: \n",
    "\n",
    "import matplotlib.pyplot as plt\n",
    "\n",
    "# Example data (replace with your actual data)\n",
    "period = ['EIP', 'MH', 'LIP']\n",
    "fr_result = [0.165, 0.23, 0.375]\n",
    "\n",
    "fig, ax = plt.subplots()\n",
    "\n",
    "# Plot bars in black with adjusted width of 0.6\n",
    "ax.bar(period, fr_result, color='black', width=0.6)\n",
    "\n",
    "# Increase the maximum y-axis value to 0.50\n",
    "ax.set_ylim(0, 0.50)\n",
    "\n",
    "# Label and title configuration\n",
    "ax.set_xlabel('Period')\n",
    "ax.set_ylabel('Frequency (%)')\n",
    "plt.title('Frequency by Period')\n",
    "\n",
    "# Convert decimal values to percentages on the y-axis\n",
    "ax.yaxis.set_major_formatter(plt.FuncFormatter(lambda x, loc: \"{:.0%}\".format(x)))\n",
    "\n",
    "# Display the bar chart\n",
    "plt.show()"
   ]
  },
  {
   "cell_type": "markdown",
   "metadata": {},
   "source": [
    "The bar chart show that the relative frequence of trauma was tendencialy higher in more recent periods"
   ]
  },
  {
   "cell_type": "markdown",
   "metadata": {},
   "source": [
    "## 2. Statistical Modeling: GLM with Negative Binomial Distribution\n"
   ]
  },
  {
   "cell_type": "markdown",
   "metadata": {},
   "source": [
    "### 2.1 Data Preparation for Modeling\n",
    "\n",
    "Before fitting a statistical model, the data was prepared. The relevant variables was selected, missing values was handeling , and variables was transforming, such as creating an `offset` for count models."
   ]
  },
  {
   "cell_type": "code",
   "execution_count": 7,
   "metadata": {},
   "outputs": [],
   "source": [
    "# Select the variables of interest \n",
    "data = df[['period', 'n_id', 'n_id_affect']].copy()\n",
    "data['n_id'] = pd.to_numeric(data['n_id'], errors='coerce')\n",
    "data['n_id_affect'] = pd.to_numeric(data['n_id_affect'], errors='coerce')\n",
    "\n",
    "# drop NA data\n",
    "data = data.dropna(subset=['period','n_id','n_id_affect']).copy()\n",
    "\n",
    "# avoid log(0)\n",
    "data = data[data['n_id'] > 0].copy()\n",
    "data['offset'] = np.log(data['n_id']) # define n_id as offset\n",
    "\n",
    "# Define the MH period as baseline for analyses \n",
    "data['period'] = pd.Categorical(data['period'], categories=['MH','EIP','LIP'], ordered=True)\n"
   ]
  },
  {
   "cell_type": "markdown",
   "metadata": {},
   "source": [
    "These steps above ensure that the data is in the correct format and that problematic values (like `log(0)`) are handled, in addition to defining a reference category for the `period` variable."
   ]
  },
  {
   "cell_type": "markdown",
   "metadata": {},
   "source": [
    "### 2.2 Mean and Variance Analysis\n",
    "\n",
    "For count models, it is important to check the relationship between the mean and variance of the data. In Poisson distributions, the mean equals the variance. Significant deviations indicate the need for more flexible models, such as the Negative Binomial.\n"
   ]
  },
  {
   "cell_type": "code",
   "execution_count": 11,
   "metadata": {},
   "outputs": [
    {
     "name": "stdout",
     "output_type": "stream",
     "text": [
      "Média: 6.0\n",
      "Variância: 84.40425531914893\n",
      "Razão Var/Média: 14.067375886524822\n"
     ]
    }
   ],
   "source": [
    "###########################################\n",
    "\n",
    "y = data[\"n_id_affect\"]\n",
    "\n",
    "media = np.mean(y)\n",
    "variancia = np.var(y, ddof=1)\n",
    "\n",
    "print(\"Média:\", media)\n",
    "print(\"Variância:\", variancia)\n",
    "print(\"Razão Var/Média:\", variancia/media)\n"
   ]
  },
  {
   "cell_type": "markdown",
   "metadata": {},
   "source": [
    "The results above indicate that the variance/Mean ratio is significantly greater than 1 indicates overdispersion, justifying the use of a Negative Binomial model."
   ]
  },
  {
   "cell_type": "code",
   "execution_count": 12,
   "metadata": {},
   "outputs": [
    {
     "name": "stdout",
     "output_type": "stream",
     "text": [
      "[ 0.16582915  0.66331658  0.99497487  2.34016888  2.57418577  0.70205066\n",
      "  3.27623643  5.8504222   1.17008444  3.74427021  2.34016888  3.04221954\n",
      "  9.12665862  9.12665862  6.08443908  6.76232202  4.13253012  2.57418577\n",
      "  1.17008444  5.63526835  3.75684556  7.13800657  6.38663746  0.37568456\n",
      " 23.66812705 27.04928806 10.14348302  6.0109529   1.12705367 15.21109771\n",
      "  7.95657419  4.97487437  5.14070352 10.51916758 20.28696605  3.38116101\n",
      " 12.39759036 18.78422782  5.25958379  3.75684556  2.25410734  1.12705367\n",
      "  1.32663317  0.66331658  1.65829146  6.46733668  3.9798995   1.65829146\n",
      "  0.33165829  1.16080402  2.57418577  1.17008444  2.80820265  4.68033776\n",
      "  0.70205066  0.70205066  1.40410133  1.40410133  7.02050663  5.14837153\n",
      "  1.17008444  0.93606755  0.23401689 12.40289505 11.23281062 14.74306393\n",
      "  1.98994975  1.8241206  10.29674306  8.42460796  6.55247286  8.42460796\n",
      "  1.8721351   1.8721351   0.23401689  0.46803378  3.74427021  3.74427021\n",
      "  0.93606755  1.17008444  1.63811821  5.25958379 22.54107338 16.15443593\n",
      "  9.76779847  4.13253012  5.63526835  5.25958379  6.0109529  28.92771084\n",
      " 23.2924425  22.54107338  3.38116101  1.87842278  8.26506024] [ 1.  2.  0.  5.  7.  0.  4.  6.  0.  4.  5.  4. 11. 16.  5. 12.  9.  2.\n",
      "  0. 12.  5. 11. 11.  1. 36. 45.  3. 11.  3. 52. 15.  6.  3. 10. 37.  4.\n",
      "  8. 20.  6.  3.  4.  0.  2.  2.  4.  4.  3.  1.  0.  0.  3.  1.  3.  1.\n",
      "  1.  0.  3.  1.  7.  5.  4.  1.  1.  0.  2.  2.  4.  1.  3.  6.  3.  2.\n",
      "  3.  1.  0.  1.  3.  0.  0.  1.  0.  2.  3.  2. 15.  4.  3.  7.  6. 30.\n",
      "  8.  9.  1.  0.  2.]\n"
     ]
    }
   ],
   "source": [
    "\n",
    "# fórmula do modelo (mantendo a comparação por período)\n",
    "formula = \"n_id_affect ~ C(period)\"\n",
    "\n",
    "# === 2) estimar mu via Poisson (mesma fórmula e offset) ===\n",
    "pois = smf.glm(\n",
    "    formula=formula,\n",
    "    data=data,\n",
    "    family=sm.families.Poisson(),\n",
    "    offset=data['offset']\n",
    ").fit()\n",
    "\n",
    "mu = pois.fittedvalues.values\n",
    "y  = data['n_id_affect'].astype(float).values\n",
    "print(mu,y)"
   ]
  },
  {
   "cell_type": "markdown",
   "metadata": {},
   "source": [
    "The `mu` values represent the expected means of `n_id_affect` under the Poisson model, considering `period` and `offset`. It is possible see the diferences betwein the values, the observed values contein more higher numbers compare to the predicted. In the cell below a histogram comparing the two values was plotted: "
   ]
  },
  {
   "cell_type": "code",
   "execution_count": 13,
   "metadata": {},
   "outputs": [
    {
     "data": {
      "image/png": "[encoded data removed]",
      "text/plain": [
       "<Figure size 640x480 with 1 Axes>"
      ]
     },
     "metadata": {},
     "output_type": "display_data"
    }
   ],
   "source": [
    "import matplotlib.pyplot as plt\n",
    "\n",
    "# Histogram of observed values\n",
    "plt.hist(y, bins='auto', alpha=0.6, label=\"Observed (y)\")\n",
    "\n",
    "# Histogram of predicted values (mu)\n",
    "plt.hist(mu, bins='auto', alpha=0.6, label=\"Predicted (mu)\")\n",
    "\n",
    "plt.xlabel(\"Count values\")\n",
    "plt.ylabel(\"Frequency\")\n",
    "plt.title(\"Observed vs Predicted Counts\")\n",
    "plt.legend()\n",
    "plt.show()"
   ]
  },
  {
   "cell_type": "markdown",
   "metadata": {},
   "source": [
    "Visualialy it is possible perseinve that the observed data have much mora dispersion than the predicted poisson values. This reinforce the use of a negative bionomial distribuition. "
   ]
  },
  {
   "cell_type": "markdown",
   "metadata": {},
   "source": [
    "### 2.4 Estimation of the Dispersion Parameter (`alpha`) for NB2\n",
    "\n",
    "The `alpha` parameter in the Negative Binomial (NB2) distribution is crucial for modeling overdispersion. It is estimated using the method of moments, which compares the observed variance with the expected variance under the Poisson model."
   ]
  },
  {
   "cell_type": "code",
   "execution_count": 14,
   "metadata": {},
   "outputs": [
    {
     "name": "stdout",
     "output_type": "stream",
     "text": [
      "alpha_hat (NB2, com period + offset) = 0.488932\n"
     ]
    }
   ],
   "source": [
    "\n",
    "# === 3) método dos momentos para alpha (NB2): Var(Y) ≈ mu + alpha*mu^2 ===\n",
    "num = ((y - mu)**2).sum() - mu.sum()\n",
    "den = (mu**2).sum()\n",
    "alpha_hat = max(num / den, 0.0)\n",
    "\n",
    "print(f\"alpha_hat (NB2, com period + offset) = {alpha_hat:.6f}\")\n"
   ]
  },
  {
   "cell_type": "markdown",
   "metadata": {},
   "source": [
    "A value of `alpha_hat` greater than zero confirms the presence of overdispersion and the suitability of the Negative Binomial model."
   ]
  },
  {
   "cell_type": "markdown",
   "metadata": {},
   "source": [
    "### 2.5 Negative Binomial Model Fitting and Comparison with Poisson\n",
    "\n",
    "With the estimated `alpha_hat`, the GLM model with Negative Binomial distribution is fitted. Subsequently, a comparison with the Poisson model is performed using the likelihood ratio test (LR stat) to assess whether the inclusion of the dispersion parameter significantly improves the model fit."
   ]
  },
  {
   "cell_type": "code",
   "execution_count": 15,
   "metadata": {},
   "outputs": [
    {
     "name": "stdout",
     "output_type": "stream",
     "text": [
      "LR stat: 158.8971, p-valor: 0.0000\n"
     ]
    }
   ],
   "source": [
    "from scipy import stats\n",
    "import statsmodels.api as sm\n",
    "\n",
    "\n",
    "# Ajustar modelo NB com alpha estimado\n",
    "nb = sm.GLM(y, pois.model.exog, \n",
    "            family=sm.families.NegativeBinomial(alpha=alpha_hat), \n",
    "            offset=data['offset']).fit()\n",
    "\n",
    "# Comparar log-likelihoods\n",
    "ll_pois = pois.llf\n",
    "ll_nb   = nb.llf\n",
    "\n",
    "LR = 2 * (ll_nb - ll_pois)\n",
    "p_value = stats.chi2.sf(LR, df=1)  # 1 parâmetro extra: alpha\n",
    "\n",
    "print(f\"LR stat: {LR:.4f}, p-valor: {p_value:.4f}\")\n"
   ]
  },
  {
   "cell_type": "markdown",
   "metadata": {},
   "source": [
    "A very low p-value (close to zero) indicates that the Negative Binomial model fits the data significantly better than the Poisson model, confirming the importance of considering overdispersion."
   ]
  },
  {
   "cell_type": "markdown",
   "metadata": {},
   "source": [
    "### 2.6 Variance and Mean Analysis (Review)\n",
    "\n",
    "This code block reiterates the check of the relationship between variance and mean, reinforcing the need for the Negative Binomial model."
   ]
  },
  {
   "cell_type": "code",
   "execution_count": 16,
   "metadata": {},
   "outputs": [
    {
     "name": "stdout",
     "output_type": "stream",
     "text": [
      "Var(y): 84.40425531914893\n",
      "Mean(y): 6.0\n",
      "Var/Mean (Poisson deveria ~1): 14.067375886524822\n"
     ]
    }
   ],
   "source": [
    "resid_var = np.var(y - mu, ddof=1)\n",
    "print(\"Var(y):\", np.var(y, ddof=1))\n",
    "print(\"Mean(y):\", np.mean(y))\n",
    "print(\"Var/Mean (Poisson deveria ~1):\", np.var(y, ddof=1) / np.mean(y))"
   ]
  },
  {
   "cell_type": "markdown",
   "metadata": {},
   "source": [
    "### 2.7 AIC Comparison\n",
    "\n",
    "Akaike Information Criterion (AIC) is a measure of the relative quality of statistical models for a given set of data. Models with lower AIC are generally preferred. The comparison of AIC between Poisson and Negative Binomial models reinforces the choice of the most suitable model."
   ]
  },
  {
   "cell_type": "code",
   "execution_count": 17,
   "metadata": {},
   "outputs": [
    {
     "name": "stdout",
     "output_type": "stream",
     "text": [
      "Poisson AIC: 625.2790553399149\n",
      "NB AIC: 466.3820037026725\n"
     ]
    }
   ],
   "source": [
    "print(\"Poisson AIC:\", pois.aic)\n",
    "print(\"NB AIC:\", nb.aic)"
   ]
  },
  {
   "cell_type": "markdown",
   "metadata": {},
   "source": [
    "The significantly lower AIC for the Negative Binomial model confirms your relevance aplication over the Poisson model."
   ]
  },
  {
   "cell_type": "markdown",
   "metadata": {},
   "source": [
    "### 2.8 GLM NB Model Summary and Diagnostics\n",
    "\n",
    "The summary aplying below of the GLM Negative Binomial model provides a comprehensive overview of the fitting results, including coefficients, standard errors, p-values, and other statistics. In addition, important diagnostics such as log-likelihood, AIC, BIC, and Pearson Chi2/df are calculated to assess the quality of the fit and the presence of remaining overdispersion."
   ]
  },
  {
   "cell_type": "code",
   "execution_count": 18,
   "metadata": {},
   "outputs": [
    {
     "name": "stdout",
     "output_type": "stream",
     "text": [
      "                 Generalized Linear Model Regression Results                  \n",
      "==============================================================================\n",
      "Dep. Variable:            n_id_affect   No. Observations:                   95\n",
      "Model:                            GLM   Df Residuals:                       92\n",
      "Model Family:        NegativeBinomial   Df Model:                            2\n",
      "Link Function:                    Log   Scale:                          1.0000\n",
      "Method:                          IRLS   Log-Likelihood:                -230.19\n",
      "Date:                Sat, 30 Aug 2025   Deviance:                       91.689\n",
      "Time:                        19:49:01   Pearson chi2:                     73.1\n",
      "No. Iterations:                     7   Pseudo R-squ. (CS):             0.1002\n",
      "Covariance Type:            nonrobust                                         \n",
      "====================================================================================\n",
      "                       coef    std err          z      P>|z|      [0.025      0.975]\n",
      "------------------------------------------------------------------------------------\n",
      "Intercept           -1.4401      0.139    -10.334      0.000      -1.713      -1.167\n",
      "C(period)[T.EIP]    -0.2225      0.300     -0.741      0.459      -0.811       0.366\n",
      "C(period)[T.LIP]     0.5235      0.196      2.676      0.007       0.140       0.907\n",
      "====================================================================================\n",
      "\n",
      "=== Diagnósticos do GLM NB (com alpha_hat) ===\n",
      "logLik : -230.1910\n",
      "AIC    : 466.3820\n",
      "BIC    : -327.2672\n",
      "Pearson Chi2/df: 0.7940\n"
     ]
    },
    {
     "name": "stderr",
     "output_type": "stream",
     "text": [
      "c:\\ProgramData\\anaconda3\\Lib\\site-packages\\statsmodels\\genmod\\generalized_linear_model.py:1838: FutureWarning: The bic value is computed using the deviance formula. After 0.13 this will change to the log-likelihood based formula. This change has no impact on the relative rank of models compared using BIC. You can directly access the log-likelihood version using the `bic_llf` attribute. You can suppress this message by calling statsmodels.genmod.generalized_linear_model.SET_USE_BIC_LLF with True to get the LLF-based version now or False to retainthe deviance version.\n",
      "  warnings.warn(\n"
     ]
    }
   ],
   "source": [
    "\n",
    "# === 4) refitar GLM NB com alpha_hat e calcular diagnósticos ===\n",
    "nb = smf.glm(\n",
    "    formula=formula,\n",
    "    data=data,\n",
    "    family=sm.families.NegativeBinomial(alpha=alpha_hat),\n",
    "    offset=data['offset']\n",
    ").fit()\n",
    "\n",
    "print(nb.summary())\n",
    "\n",
    "# diagnósticos principais\n",
    "loglik = nb.llf\n",
    "aic    = nb.aic\n",
    "bic    = nb.bic if hasattr(nb, \"bic\") else (2*nb.df_model - 2*loglik)  # fallback se versão não tiver .bic\n",
    "\n",
    "# Pearson Chi2/df (checagem de dispersão remanescente)\n",
    "pearson_chi2_df = (nb.resid_pearson**2).sum() / nb.df_resid\n",
    "\n",
    "print(\"\\n=== Diagnósticos do GLM NB (com alpha_hat) ===\")\n",
    "print(f\"logLik : {loglik:.4f}\")\n",
    "print(f\"AIC    : {aic:.4f}\")\n",
    "print(f\"BIC    : {bic:.4f}\")\n",
    "print(f\"Pearson Chi2/df: {pearson_chi2_df:.4f}\")\n"
   ]
  },
  {
   "cell_type": "markdown",
   "metadata": {},
   "source": [
    "The model summary above and diagnostics provide detailed information about the significance of predictors and the overall model fit."
   ]
  },
  {
   "cell_type": "markdown",
   "metadata": {},
   "source": [
    "### 2.9 Effect Size Table (IRR)\n",
    "\n",
    "For count models, coefficients are often interpreted as Incidence Rate Ratios (IRR). The IRR table and its 95% confidence intervals was calculated to facilitate the interpretation of the effects of predictor variables."
   ]
  },
  {
   "cell_type": "code",
   "execution_count": 19,
   "metadata": {},
   "outputs": [],
   "source": [
    "# ==== 3) Effect sizes table: IRR = exp(coef) with 95% CI ====\n",
    "coef = nb.params\n",
    "se   = nb.bse\n",
    "\n",
    "irr = np.exp(coef)\n",
    "lcl = np.exp(coef - 1.96*se)\n",
    "ucl = np.exp(coef + 1.96*se)\n",
    "pvl = nb.pvalues\n",
    "\n",
    "irr_tbl = pd.DataFrame({\n",
    "    \"Term\": coef.index,\n",
    "    \"IRR\": irr.values,\n",
    "    \"CI95_low\": lcl.values,\n",
    "    \"CI95_high\": ucl.values,\n",
    "    \"p_value\": pvl.values\n",
    "})"
   ]
  },
  {
   "cell_type": "code",
   "execution_count": 20,
   "metadata": {},
   "outputs": [
    {
     "name": "stdout",
     "output_type": "stream",
     "text": [
      "\n",
      "=== Effect sizes (IRR) and 95% CI ===\n",
      "    Comparison   IRR  CI95_low  CI95_high  p_value\n",
      "Intercept (MH) 0.237     0.180      0.311    0.000\n",
      "     EIP vs MH 0.801     0.444      1.442    0.459\n",
      "     LIP vs MH 1.688     1.150      2.477    0.007\n"
     ]
    }
   ],
   "source": [
    "# Map labels for readability\n",
    "label_map = {\n",
    "    \"Intercept\": \"Intercept (MH)\",\n",
    "    \"C(period)[T.EIP]\": \"EIP vs MH\",\n",
    "    \"C(period)[T.LIP]\": \"LIP vs MH\",\n",
    "    \n",
    "}\n",
    "irr_tbl[\"Comparison\"] = irr_tbl[\"Term\"].map(label_map).fillna(irr_tbl[\"Term\"])\n",
    "\n",
    "cols = [\"Comparison\", \"IRR\", \"CI95_low\", \"CI95_high\", \"p_value\"]\n",
    "irr_tbl = irr_tbl[cols]\n",
    "\n",
    "# Print rounded summary\n",
    "print(\"\\n=== Effect sizes (IRR) and 95% CI ===\")\n",
    "print(irr_tbl.round({\"IRR\":3, \"CI95_low\":3, \"CI95_high\":3, \"p_value\":3}).to_string(index=False))"
   ]
  },
  {
   "cell_type": "markdown",
   "metadata": {},
   "source": [
    "This result show that the comparation between the reference period (C(period) = MH period) with the EIP don't show statistic difference, wich contradics the inicial expectation. However, the comparation with the LIP period show this diference, confirm the assumption of this study that the LIP period concentrate more incidence of trauma than the previous one. Only the second comparation is fitted with the hypoteses derived from the cultural multilevel seletion about the role of warfare and conflict in the evolution of complex society. "
   ]
  },
  {
   "cell_type": "markdown",
   "metadata": {},
   "source": [
    "## 3. Trauma Type Analysis comparation \n",
    "\n",
    "### 3.1 Selection and Aggregation of Trauma Variables\n",
    "\n",
    "To compare trauma types (antemortem and perimortem) across periods, corresponding variables was selected and values aggregated (summed).\n"
   ]
  },
  {
   "cell_type": "code",
   "execution_count": 21,
   "metadata": {},
   "outputs": [],
   "source": [
    "#selecting variables \n",
    "\n",
    "group_eip_anti = df.loc[df['period'] =='EIP', 'n_id_antimortem']\n",
    "eip_anti = group_eip_anti.dropna() \n",
    "group_mh_anti = df.loc[df['period'] =='MH', 'n_id_antimortem']\n",
    "mh_anti = group_mh_anti.dropna()\n",
    "group_lip_anti = df.loc[df['period'] =='LIP', 'n_id_antimortem']\n",
    "lip_anti = group_lip_anti.dropna()\n",
    "\n",
    "group_eip_peri = df.loc[df['period'] =='EIP', 'n_id_perimortem']\n",
    "eip_peri = group_eip_peri.dropna()\n",
    "group_mh_peri = df.loc[df['period'] =='MH', 'n_id_perimortem']\n",
    "mh_peri = group_mh_peri.dropna()\n",
    "group_lip_peri = df.loc[df['period'] =='LIP', 'n_id_perimortem']\n",
    "lip_peri = group_lip_peri.dropna()"
   ]
  },
  {
   "cell_type": "markdown",
   "metadata": {},
   "source": [
    "\n",
    "These steps below prepare the data for visualization and comparison of total trauma by period and type:"
   ]
  },
  {
   "cell_type": "code",
   "execution_count": 22,
   "metadata": {},
   "outputs": [],
   "source": [
    "sum_eip_anti = eip_anti.sum()\n",
    "sum_mh_anti = mh_anti.sum()\n",
    "sum_lip_anti = lip_anti.sum()\n",
    "\n",
    "sum_eip_peri = eip_peri.sum()\n",
    "sum_mh_peri = mh_peri.sum()\n",
    "sum_lip_peri = lip_peri.sum()"
   ]
  },
  {
   "cell_type": "markdown",
   "metadata": {},
   "source": [
    "### 3.2 Visualization: Sum of Antemortem Trauma by Period\n",
    "\n",
    "A bar chart is used to visualize the sum of antemortem traumas in each period, facilitating the identification of trends or differences."
   ]
  },
  {
   "cell_type": "code",
   "execution_count": 23,
   "metadata": {},
   "outputs": [
    {
     "data": {
      "image/png": "[encoded data removed]",
      "text/plain": [
       "<Figure size 640x480 with 1 Axes>"
      ]
     },
     "metadata": {},
     "output_type": "display_data"
    }
   ],
   "source": [
    "import matplotlib.pyplot as plt\n",
    "\n",
    "# Example data (replace with your actual data)\n",
    "period = ['EIP', 'MH', 'LIP']\n",
    "total = [sum_eip_anti, sum_mh_anti, sum_lip_anti]\n",
    "\n",
    "fig, ax = plt.subplots()\n",
    "\n",
    "# Plot bars in black with adjusted width of 0.6\n",
    "ax.bar(period, total, color='black', width=0.6)\n",
    "\n",
    "# Increase the maximum y-axis value to 120\n",
    "ax.set_ylim(0, 120)\n",
    "\n",
    "# Label and title configuration\n",
    "ax.set_xlabel('Period')\n",
    "ax.set_ylabel('Sum')\n",
    "plt.title('Sum antimortem by Period')\n",
    "\n",
    "# Display the bar chart\n",
    "plt.show()"
   ]
  },
  {
   "cell_type": "markdown",
   "metadata": {},
   "source": [
    "The gragh above show that the MH period and the LIP have very similar values of antimortem trauma. The EIP concentrate very fill, but this information about this period is missing, for this your role in the comparation don't have relevance. "
   ]
  },
  {
   "cell_type": "markdown",
   "metadata": {},
   "source": [
    "### 3.3 Visualization: Sum of Perimortem Trauma by Period\n",
    "\n",
    "Similarly, a bar chart is generated for the sum of perimortem traumas by period, allowing for a visual comparison between trauma types."
   ]
  },
  {
   "cell_type": "code",
   "execution_count": 24,
   "metadata": {},
   "outputs": [
    {
     "data": {
      "image/png": "[encoded data removed]",
      "text/plain": [
       "<Figure size 640x480 with 1 Axes>"
      ]
     },
     "metadata": {},
     "output_type": "display_data"
    }
   ],
   "source": [
    "import matplotlib.pyplot as plt\n",
    "\n",
    "# Example data (replace with your actual data)\n",
    "period = ['MH', 'LIP']\n",
    "total = [sum_mh_peri, sum_lip_peri]\n",
    "\n",
    "fig, ax = plt.subplots()\n",
    "\n",
    "# Plot bars in black with adjusted width of 0.6\n",
    "ax.bar(period, total, color='black', width=0.6)\n",
    "\n",
    "# Increase the maximum y-axis value 50\n",
    "ax.set_ylim(0, 50)\n",
    "\n",
    "# Label and title configuration\n",
    "ax.set_xlabel('Period')\n",
    "ax.set_ylabel('Sum')\n",
    "plt.title('Sum perimortem by Period')\n",
    "\n",
    "# Display the bar chart\n",
    "plt.show()"
   ]
  },
  {
   "cell_type": "markdown",
   "metadata": {},
   "source": [
    "The comparation show that the LIP period have much more perimortem trauma than the MH, confirm the expectation that this period was significantily more conflituos than the previous one"
   ]
  }
 ],
 "metadata": {
  "kernelspec": {
   "display_name": "base",
   "language": "python",
   "name": "python3"
  },
  "language_info": {
   "codemirror_mode": {
    "name": "ipython",
    "version": 3
   },
   "file_extension": ".py",
   "mimetype": "text/x-python",
   "name": "python",
   "nbconvert_exporter": "python",
   "pygments_lexer": "ipython3",
   "version": "3.11.7"
  }
 },
 "nbformat": 4,
 "nbformat_minor": 2
}
